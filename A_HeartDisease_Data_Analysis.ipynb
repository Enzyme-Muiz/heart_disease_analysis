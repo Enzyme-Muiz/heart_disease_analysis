{
 "cells": [
  {
   "cell_type": "markdown",
   "metadata": {},
   "source": [
    "<h1 style=\"font-size:60px;\"><b>Import packages</b></h1>"
   ]
  },
  {
   "cell_type": "code",
   "execution_count": 1,
   "metadata": {},
   "outputs": [],
   "source": [
    "import pandas as pd\n",
    "from scipy.stats import chi2_contingency, shapiro, ttest_ind, ks_2samp, mannwhitneyu\n",
    "import numpy as np\n",
    "import matplotlib.pyplot as plt\n",
    "from matplotlib.ticker import StrMethodFormatter\n",
    "import statsmodels.api as sm\n",
    "from sklearn.model_selection import train_test_split\n",
    "from dython import nominal\n",
    "from imblearn.over_sampling import SMOTE\n",
    "from sklearn.tree import DecisionTreeClassifier \n",
    "from sklearn.ensemble import RandomForestClassifier\n",
    "from sklearn.metrics import classification_report, confusion_matrix, accuracy_score\n",
    "from sklearn.metrics import matthews_corrcoef\n",
    "from sklearn.utils import resample\n",
    "import tensorflow as tf\n",
    "from tensorflow.keras import Sequential\n",
    "from tensorflow.keras.layers import Dense, Input, BatchNormalization\n",
    "from tensorflow.keras.callbacks import EarlyStopping\n",
    "import keras.backend as K\n",
    "import seaborn as sns\n",
    "import statsmodels.formula.api as smf\n",
    "from sklearn.neighbors import KNeighborsClassifier\n",
    "from sklearn.preprocessing import StandardScaler"
   ]
  },
  {
   "cell_type": "markdown",
   "metadata": {},
   "source": [
    "<h1 style=\"font-size:60px;\"><b>Download data, clean and save</b></h1>"
   ]
  },
  {
   "cell_type": "code",
   "execution_count": 2,
   "metadata": {},
   "outputs": [],
   "source": [
    "df = pd.read_csv(\"https://raw.githubusercontent.com/mrsonuk/LDS_Test/main/Test_data.csv\", index_col=0)"
   ]
  },
  {
   "cell_type": "code",
   "execution_count": 3,
   "metadata": {},
   "outputs": [],
   "source": [
    "df['GenHealth'] = df['GenHealth'].replace(['Goo_d', 'goo_d', 'ExCellent'], ['Good', 'Good', 'Excellent']) "
   ]
  },
  {
   "cell_type": "code",
   "execution_count": 4,
   "metadata": {},
   "outputs": [],
   "source": [
    "df = df.rename(columns={'Dead/Alive': 'DeadorAlive'})"
   ]
  },
  {
   "cell_type": "code",
   "execution_count": 5,
   "metadata": {},
   "outputs": [],
   "source": [
    "df.to_csv(\"Heart_disease.csv\")"
   ]
  },
  {
   "cell_type": "code",
   "execution_count": 6,
   "metadata": {},
   "outputs": [],
   "source": [
    "df['GenHealth'] = df['GenHealth'].replace(['Poor','Fair','Good','Very good','Excellent'], [0,1,2,3,4])\n",
    "df['AgeCategory'] = df['AgeCategory'].replace([ '18-24', '25-29','30-34', '35-39', '40-44', '45-49','50-54', '55-59','60-64','65-69','70-74', '75-79','80 or older'],\n",
    "                                             [0,1,2,3,4,5,6,7,8,9,10,11,12])"
   ]
  },
  {
   "cell_type": "code",
   "execution_count": 7,
   "metadata": {},
   "outputs": [],
   "source": [
    "###Diabetic and Race are categorical variables with more than two levels\n",
    "expand_df = pd.get_dummies(df, columns = [\"Diabetic\", \"Race\"])"
   ]
  },
  {
   "cell_type": "code",
   "execution_count": 8,
   "metadata": {},
   "outputs": [],
   "source": [
    "expand_df = expand_df.rename(columns={'Diabetic_No, borderline diabetes': 'DiabeticBorderline',\n",
    "                                     'Diabetic_Yes (during pregnancy)': 'DiabeticYesPregnancy',\n",
    "                                     'Race_American Indian/Alaskan Native': 'RaceAmericanIndianAlaskanNative',\n",
    "                                     'Race_Asian': 'RaceAsian',\n",
    "                                     'Race_Black': 'RaceBlack',\n",
    "                                     'Race_Hispanic': 'RaceHispanic',\n",
    "                                     'Race_Other': 'RaceOther',\n",
    "                                     'Race_White': 'RaceWhite'})"
   ]
  },
  {
   "cell_type": "markdown",
   "metadata": {},
   "source": [
    "<h1 style=\"font-size:60px;\"><b>Input</b></h1>"
   ]
  },
  {
   "cell_type": "code",
   "execution_count": 9,
   "metadata": {},
   "outputs": [],
   "source": [
    "###this is the feature to be used as y_of_model\n",
    "###\"Stroke\" \"HeartDisease\" \"DeadorAlive\"\n",
    "###if y_of_model is \"DeadorAlive\" declare a subsetting variable\n",
    "y_of_model = \"DeadorAlive\"\n",
    "subset_variable = \"HeartDisease\"##\"HeartDisease\" \"Stroke\" or \"\"\n",
    "if y_of_model == \"DeadorAlive\":\n",
    "    df= df.loc[df[subset_variable] == \"Yes\"]\n",
    "    expand_df = expand_df.loc[expand_df[subset_variable] == \"Yes\"]\n",
    "else:\n",
    "    print(\"nothing to subset\")\n"
   ]
  },
  {
   "cell_type": "markdown",
   "metadata": {},
   "source": [
    "<h1 style=\"font-size:60px;\"><b>Statistical Analysis</b></h1>"
   ]
  },
  {
   "cell_type": "code",
   "execution_count": 10,
   "metadata": {},
   "outputs": [
    {
     "name": "stdout",
     "output_type": "stream",
     "text": [
      "HeartDisease results:(0.0, 1.0, 0)\n",
      "Smoking results:(1.0738055563351527, 0.30008744014624816, 1)\n",
      "Diabetic results:(0.87692889268001, 0.8309915239153841, 3)\n",
      "AlcoholDrinking results:(0.00013192396930282148, 0.9908358462370145, 1)\n",
      "Stroke results:(0.61201275690144, 0.4340309765595616, 1)\n",
      "DiffWalking results:(0.06986723137713112, 0.7915301891029922, 1)\n",
      "Sex results:(0.05764305250927543, 0.8102607375576469, 1)\n",
      "Race results:(2.359686106009373, 0.7974621288910605, 5)\n",
      "PhysicalActivity results:(0.3245892340095291, 0.5688626484555688, 1)\n",
      "Asthma results:(3.4571615913680334, 0.062978337580537, 1)\n",
      "KidneyDisease results:(2.4815246326003804, 0.11519054282803234, 1)\n",
      "SkinCancer results:(0.1055294200076107, 0.7452923898943873, 1)\n"
     ]
    }
   ],
   "source": [
    "###category_vs_category\n",
    "##'HeartDisease' removed from the other categorical_features\n",
    "categorical_features=  [  'HeartDisease','Smoking', 'Diabetic', 'AlcoholDrinking','Stroke', 'DiffWalking', 'Sex', 'Race', 'PhysicalActivity','Asthma', 'KidneyDisease', 'SkinCancer', 'DeadorAlive']\n",
    "categorical_features.remove(y_of_model)\n",
    "for feature in categorical_features:\n",
    "    chisqt = pd.crosstab( eval(\"df.\"+y_of_model), eval(\"df.\"+feature),  margins=True)\n",
    "    value = np.array([chisqt.iloc[0][0:(chisqt.shape[1]-1)].values,\n",
    "                  chisqt.iloc[1][0:(chisqt.shape[1]-1)].values])\n",
    "    print(feature+ \" results:\"+ str(chi2_contingency(value)[0:3]))\n",
    "    "
   ]
  },
  {
   "cell_type": "code",
   "execution_count": 11,
   "metadata": {},
   "outputs": [
    {
     "name": "stderr",
     "output_type": "stream",
     "text": [
      "C:\\Users\\oaona\\Anaconda3\\envs\\tf1130\\lib\\site-packages\\scipy\\stats\\morestats.py:1681: UserWarning: p-value may not be accurate for N > 5000.\n",
      "  warnings.warn(\"p-value may not be accurate for N > 5000.\")\n"
     ]
    },
    {
     "name": "stdout",
     "output_type": "stream",
     "text": [
      "non-parametric results for BMI 0.5545964446021714\n",
      "non-parametric results for SleepTime 0.5537682558978357\n",
      "non-parametric results for PhysicalHealth 0.9999999983286841\n",
      "non-parametric results for MentalHealth 0.9702609022417871\n"
     ]
    }
   ],
   "source": [
    "####category_vs_continuous(and count data)\n",
    "continous_and_count_data = [\"BMI\", \"SleepTime\", \"PhysicalHealth\", \"MentalHealth\"]\n",
    "for continuous_or_count in continous_and_count_data:\n",
    "    NO_y_of_model = df.loc[df[y_of_model] == \"No\", continuous_or_count]\n",
    "    YES_y_of_model = df.loc[df[y_of_model] == \"Yes\", continuous_or_count]\n",
    "    if (shapiro(np.array(eval(\"df.\"+continuous_or_count)))[1]<= 0.05) == True:   #normality check\n",
    "        print(\"non-parametric results for \"+ continuous_or_count +\" \"+ str(ks_2samp(NO_y_of_model, YES_y_of_model)[1]))\n",
    "    else:\n",
    "        print(\"parametric results for \"+ continuous_or_count +\" \"+ str(ttest_ind(NO_y_of_model, YES_y_of_model, equal_var = False)[1]))\n",
    "        "
   ]
  },
  {
   "cell_type": "code",
   "execution_count": 12,
   "metadata": {},
   "outputs": [
    {
     "name": "stdout",
     "output_type": "stream",
     "text": [
      "AgeCategory result: 0.7072836179072859\n",
      "GenHealth result: 0.6434553623621234\n"
     ]
    }
   ],
   "source": [
    "####categorical_vs_ordinal\n",
    "ordinal_data = [ \"AgeCategory\", \"GenHealth\"]\n",
    "for ordinal_feature in ordinal_data:\n",
    "    NO_y_of_model = df.loc[df[y_of_model] == \"No\", ordinal_feature]\n",
    "    YES_y_of_model = df.loc[df[y_of_model] == \"Yes\", ordinal_feature]\n",
    "    res = mannwhitneyu(x=NO_y_of_model, y=YES_y_of_model, alternative = \"two-sided\")[1]\n",
    "    print(ordinal_feature + \" result: \"+ str(res))\n",
    "    "
   ]
  },
  {
   "cell_type": "markdown",
   "metadata": {},
   "source": [
    "<h1 style=\"font-size:60px;\"><b>Preprocessing for machine learning</b></h1>"
   ]
  },
  {
   "cell_type": "code",
   "execution_count": 13,
   "metadata": {},
   "outputs": [],
   "source": [
    "if y_of_model == 'DeadorAlive':\n",
    "    expand_df = expand_df.drop(columns = [\"date\", \"Patient_ID\"])\n",
    "else:\n",
    "    expand_df = expand_df.drop(columns = [\"date\", \"Patient_ID\",'DeadorAlive'])"
   ]
  },
  {
   "cell_type": "code",
   "execution_count": 14,
   "metadata": {},
   "outputs": [],
   "source": [
    "categorical_features=  ['HeartDisease','Smoking', 'AlcoholDrinking','Stroke', 'DiffWalking', 'PhysicalActivity','Asthma', 'KidneyDisease', 'SkinCancer']\n",
    "try:\n",
    "    categorical_features.remove(y_of_model)\n",
    "except:\n",
    "    pass\n",
    "try:\n",
    "    categorical_features.remove(subset_variable)\n",
    "except:\n",
    "    pass\n",
    "for feature in categorical_features:\n",
    "    expand_df[feature] = expand_df[feature].replace([\"No\", \"Yes\"], [0,1])\n",
    "\n",
    "expand_df['Sex'] = expand_df['Sex'].replace([\"Male\", \"Female\"], [0,1])   "
   ]
  },
  {
   "cell_type": "code",
   "execution_count": 15,
   "metadata": {},
   "outputs": [],
   "source": [
    "####downsampling:\n",
    "expand_df_yes = expand_df[expand_df[y_of_model] == \"Yes\"]\n",
    "expand_df_no  = expand_df[expand_df[y_of_model] == \"No\"]\n",
    "expand_df_no_downsample = resample(expand_df_no,\n",
    "             replace=True,\n",
    "             n_samples=len(expand_df_yes),\n",
    "             random_state=42)\n",
    "expand_df_downsampled = pd.concat([expand_df_no_downsample, expand_df_yes])\n",
    "try:\n",
    "    expand_df_downsampled = expand_df_downsampled.drop(subset_variable, axis = 1)\n",
    "except:\n",
    "    pass"
   ]
  },
  {
   "cell_type": "code",
   "execution_count": 16,
   "metadata": {},
   "outputs": [],
   "source": [
    "####standardscaling of continuous and count variables\n",
    "scaler = StandardScaler()\n",
    "for candcount in continous_and_count_data:\n",
    "    scaler = StandardScaler()\n",
    "    scaler.fit(expand_df_downsampled[[candcount]])\n",
    "    expand_df_downsampled[[candcount]] = scaler.transform(expand_df_downsampled[[candcount]])   "
   ]
  },
  {
   "cell_type": "code",
   "execution_count": 17,
   "metadata": {},
   "outputs": [],
   "source": [
    "expand_df = expand_df_downsampled"
   ]
  },
  {
   "cell_type": "code",
   "execution_count": 18,
   "metadata": {},
   "outputs": [],
   "source": [
    "expand_df[y_of_model] = expand_df[y_of_model].replace(['No','Yes'], [0,1])\n",
    "y = expand_df[[y_of_model]]\n",
    "X = expand_df.drop(y_of_model, axis = 1)\n",
    "X_train, X_test, y_train, y_test = train_test_split(X, y, test_size=0.09, random_state=0, shuffle= True)"
   ]
  },
  {
   "cell_type": "markdown",
   "metadata": {},
   "source": [
    "<h1 style=\"font-size:60px;\"><b>Random Forest</b></h1>"
   ]
  },
  {
   "cell_type": "code",
   "execution_count": 19,
   "metadata": {},
   "outputs": [
    {
     "name": "stdout",
     "output_type": "stream",
     "text": [
      "max_features-max_depth-n_estimators-MCC-accuracy\n",
      "10-20-20-0.3546640187538952-0.6754068716094033\n",
      "10-20-40-0.39082864984132-0.6943942133815552\n",
      "10-20-80-0.3944519837339628-0.6962025316455697\n",
      "10-20-100-0.41165922406854605-0.705244122965642\n",
      "10-25-20-0.40207891507048804-0.7007233273056058\n",
      "10-25-40-0.3930009289016294-0.6952983725135624\n",
      "10-25-80-0.43546040140495595-0.7179023508137432\n",
      "10-25-100-0.40855409280199406-0.7043399638336347\n",
      "10-30-20-0.3850880537960273-0.6907775768535263\n",
      "10-30-40-0.44410834977309954-0.7224231464737794\n",
      "10-30-80-0.4333973959689773-0.716998191681736\n",
      "10-30-100-0.4307709101497354-0.7160940325497287\n",
      "10-35-20-0.38745267621339397-0.6889692585895117\n",
      "10-35-40-0.45792721800543906-0.72875226039783\n",
      "10-35-80-0.4606548149297363-0.7305605786618445\n",
      "10-35-100-0.455473078699265-0.7278481012658228\n",
      "15-20-20-0.35944597686567314-0.6781193490054249\n",
      "15-20-40-0.35077161969693416-0.6735985533453888\n",
      "15-20-80-0.4155085155685984-0.7061482820976492\n",
      "15-20-100-0.39469125983588177-0.6962025316455697\n",
      "15-25-20-0.40405054322153994-0.6998191681735986\n",
      "15-25-40-0.424897688421379-0.7115732368896925\n",
      "15-25-80-0.44840392117551336-0.7242314647377939\n",
      "15-25-100-0.40321167527934265-0.701627486437613\n",
      "15-30-20-0.4180945910832799-0.705244122965642\n",
      "15-30-40-0.4059069625254219-0.7025316455696202\n",
      "15-30-80-0.4157259106727452-0.7070524412296564\n",
      "15-30-100-0.44632954963007593-0.7233273056057866\n",
      "15-35-20-0.4016050658288128-0.6980108499095841\n",
      "15-35-40-0.4128095892142327-0.705244122965642\n",
      "15-35-80-0.45860374853802993-0.7296564195298373\n",
      "15-35-100-0.470921942947913-0.7359855334538878\n",
      "20-20-20-0.3828816932032179-0.689873417721519\n",
      "20-20-40-0.3767957123065838-0.6853526220614828\n",
      "20-20-80-0.4010105880038498-0.6998191681735986\n",
      "20-20-100-0.4043388193506218-0.6998191681735986\n",
      "20-25-20-0.3666661203525443-0.6808318264014467\n",
      "20-25-40-0.40825583361901374-0.7034358047016275\n",
      "20-25-80-0.4465034379875134-0.7233273056057866\n",
      "20-25-100-0.4417244019865707-0.720614828209765\n",
      "20-30-20-0.39330384052265127-0.6934900542495479\n",
      "20-30-40-0.42764110007701145-0.713381555153707\n",
      "20-30-80-0.4325705168997136-0.7160940325497287\n",
      "20-30-100-0.4604938868222833-0.7305605786618445\n",
      "20-35-20-0.34769777018737585-0.6690777576853526\n",
      "20-35-40-0.4305511625215757-0.713381555153707\n",
      "20-35-80-0.41357943759166504-0.7061482820976492\n",
      "20-35-100-0.44021565691028397-0.7197106690777577\n"
     ]
    }
   ],
   "source": [
    "### print model and matthews_corrcoef scores (-1, 0, +1)\n",
    "res_list= []\n",
    "print(\"max_features-max_depth-n_estimators-MCC-accuracy\")\n",
    "for x in [10, 15, 20]:\n",
    "    for j in [20,25, 30, 35]:\n",
    "        for w in [20, 40, 80, 100]:\n",
    "            clf=RandomForestClassifier(n_estimators= w, criterion=\"entropy\", max_depth= j, max_features= x, n_jobs =4)\n",
    "            clf=clf.fit(X_train,eval(\"y_train.\"+ y_of_model +\".ravel()\"))\n",
    "            y_pred=clf.predict(X_test)\n",
    "            res= str(x)+\"-\"+str(j)+\"-\"+str(w)+\"-\" +str(matthews_corrcoef(y_test, y_pred)) + \"-\" +str(accuracy_score(y_test, y_pred)) \n",
    "            print(res)\n",
    "            res_list.append(res)"
   ]
  },
  {
   "cell_type": "code",
   "execution_count": 52,
   "metadata": {},
   "outputs": [
    {
     "data": {
      "text/plain": [
       "BMI                                0.268611\n",
       "AgeCategory                        0.190205\n",
       "GenHealth                          0.095628\n",
       "SleepTime                          0.082791\n",
       "PhysicalHealth                     0.058508\n",
       "MentalHealth                       0.055471\n",
       "Smoking                            0.025996\n",
       "Stroke                             0.024291\n",
       "Sex                                0.024057\n",
       "PhysicalActivity                   0.022691\n",
       "DiffWalking                        0.021842\n",
       "Asthma                             0.017745\n",
       "SkinCancer                         0.017683\n",
       "Diabetic_Yes                       0.015021\n",
       "RaceWhite                          0.013064\n",
       "KidneyDisease                      0.011880\n",
       "AlcoholDrinking                    0.010536\n",
       "Diabetic_No                        0.009857\n",
       "RaceBlack                          0.009429\n",
       "RaceHispanic                       0.007923\n",
       "RaceOther                          0.005696\n",
       "DiabeticBorderline                 0.004415\n",
       "RaceAmericanIndianAlaskanNative    0.003099\n",
       "RaceAsian                          0.002783\n",
       "DiabeticYesPregnancy               0.000778\n",
       "dtype: float64"
      ]
     },
     "execution_count": 52,
     "metadata": {},
     "output_type": "execute_result"
    }
   ],
   "source": [
    "feature_imp = pd.Series(clf.feature_importances_,index=X_train.columns).sort_values(ascending=False)\n",
    "feature_imp"
   ]
  },
  {
   "cell_type": "code",
   "execution_count": 53,
   "metadata": {},
   "outputs": [
    {
     "name": "stderr",
     "output_type": "stream",
     "text": [
      "No handles with labels found to put in legend.\n"
     ]
    },
    {
     "data": {
      "image/png": "[encoded data removed]",
      "text/plain": [
       "<Figure size 432x288 with 1 Axes>"
      ]
     },
     "metadata": {
      "needs_background": "light"
     },
     "output_type": "display_data"
    }
   ],
   "source": [
    "sns.barplot(x=feature_imp, y=feature_imp.index)\n",
    "# Add labels to your graph\n",
    "plt.xlabel('Feature Importance Score')\n",
    "plt.ylabel('Features')\n",
    "plt.title(\"Heart Failure risk\")\n",
    "plt.legend()\n",
    "plt.show()"
   ]
  },
  {
   "cell_type": "markdown",
   "metadata": {},
   "source": [
    "<h1 style=\"font-size:60px;\"><b>Deep Neural Network</b></h1>"
   ]
  },
  {
   "cell_type": "code",
   "execution_count": 22,
   "metadata": {},
   "outputs": [],
   "source": [
    "model = Sequential()\n",
    "model.add(Dense(16, input_dim=X_train.shape[1], activation='relu'))\n",
    "model.add(Dense(12, activation='relu'))\n",
    "model.add(Dense(8, activation='relu'))\n",
    "model.add(Dense(12, activation='relu'))\n",
    "model.add(Dense(8, activation='relu'))\n",
    "model.add(Dense(12, activation='relu'))\n",
    "model.add(Dense(8, activation='relu'))\n",
    "model.add(Dense(12, activation='relu'))\n",
    "model.add(Dense(8, activation='relu'))\n",
    "model.add(Dense(len(eval(\"y_train.\"+ y_of_model + \".unique()\"))-1, activation='sigmoid'))\n",
    "\n",
    "model.compile(loss='binary_crossentropy', optimizer='adam', metrics=['accuracy'])\n",
    "es = EarlyStopping(\n",
    "    monitor='val_loss',\n",
    "    min_delta=0,\n",
    "    patience=13,\n",
    "    verbose=0,\n",
    "    mode='auto',\n",
    "    baseline=None,\n",
    "    restore_best_weights=True\n",
    ")"
   ]
  },
  {
   "cell_type": "code",
   "execution_count": 23,
   "metadata": {},
   "outputs": [
    {
     "name": "stdout",
     "output_type": "stream",
     "text": [
      "Epoch 1/40\n",
      "2243/2243 [==============================] - 7s 3ms/step - loss: 0.5851 - accuracy: 0.7327 - val_loss: 0.3052 - val_accuracy: 0.9090\n",
      "Epoch 2/40\n",
      "2243/2243 [==============================] - 6s 3ms/step - loss: 0.5161 - accuracy: 0.7560 - val_loss: 0.6171 - val_accuracy: 0.6697\n",
      "Epoch 3/40\n",
      "2243/2243 [==============================] - 6s 3ms/step - loss: 0.5021 - accuracy: 0.7588 - val_loss: 0.5137 - val_accuracy: 0.7512\n",
      "Epoch 4/40\n",
      "2243/2243 [==============================] - 6s 3ms/step - loss: 0.4974 - accuracy: 0.7607 - val_loss: 0.4551 - val_accuracy: 0.7936\n",
      "Epoch 5/40\n",
      "2243/2243 [==============================] - 6s 3ms/step - loss: 0.4955 - accuracy: 0.7584 - val_loss: 0.6090 - val_accuracy: 0.6949\n",
      "Epoch 6/40\n",
      "2243/2243 [==============================] - 6s 3ms/step - loss: 0.4942 - accuracy: 0.7605 - val_loss: 0.5451 - val_accuracy: 0.7445\n",
      "Epoch 7/40\n",
      "2243/2243 [==============================] - 6s 3ms/step - loss: 0.4933 - accuracy: 0.7595 - val_loss: 0.5579 - val_accuracy: 0.7301\n",
      "Epoch 8/40\n",
      "2243/2243 [==============================] - 6s 3ms/step - loss: 0.4923 - accuracy: 0.7602 - val_loss: 0.6455 - val_accuracy: 0.6805\n",
      "Epoch 9/40\n",
      "2243/2243 [==============================] - 6s 3ms/step - loss: 0.4915 - accuracy: 0.7590 - val_loss: 0.6662 - val_accuracy: 0.6688\n",
      "Epoch 10/40\n",
      "2243/2243 [==============================] - 6s 3ms/step - loss: 0.4916 - accuracy: 0.7605 - val_loss: 0.4591 - val_accuracy: 0.8031\n",
      "Epoch 11/40\n",
      "2243/2243 [==============================] - 7s 3ms/step - loss: 0.4908 - accuracy: 0.7619 - val_loss: 0.5201 - val_accuracy: 0.7625\n",
      "Epoch 12/40\n",
      "2243/2243 [==============================] - 6s 3ms/step - loss: 0.4893 - accuracy: 0.7619 - val_loss: 0.7411 - val_accuracy: 0.6093oss: 0\n",
      "Epoch 13/40\n",
      "2243/2243 [==============================] - 5s 2ms/step - loss: 0.4895 - accuracy: 0.7619 - val_loss: 0.4641 - val_accuracy: 0.7913\n",
      "Epoch 14/40\n",
      "2243/2243 [==============================] - 6s 3ms/step - loss: 0.4890 - accuracy: 0.7625 - val_loss: 0.5554 - val_accuracy: 0.7427\n"
     ]
    }
   ],
   "source": [
    "history= model.fit(X, eval(\"y.\"+ y_of_model + \".ravel()\"), \n",
    "                   epochs=40, callbacks=[es], validation_split=0.09, batch_size=10).history"
   ]
  },
  {
   "cell_type": "code",
   "execution_count": 24,
   "metadata": {},
   "outputs": [
    {
     "data": {
      "text/plain": [
       "<matplotlib.legend.Legend at 0x123bee3e940>"
      ]
     },
     "execution_count": 24,
     "metadata": {},
     "output_type": "execute_result"
    },
    {
     "data": {
      "image/png": "[encoded data removed]",
      "text/plain": [
       "<Figure size 432x288 with 1 Axes>"
      ]
     },
     "metadata": {
      "needs_background": "light"
     },
     "output_type": "display_data"
    }
   ],
   "source": [
    "plt.plot(history['accuracy'], label=\"training\")\n",
    "plt.plot(history['val_accuracy'], label= \"validation\")\n",
    "plt.xlabel('epoch') \n",
    "plt.ylabel('accuracy') \n",
    "plt.legend(loc=\"upper left\")"
   ]
  },
  {
   "cell_type": "markdown",
   "metadata": {},
   "source": [
    "<h1 style=\"font-size:60px;\"><b>Logistic Regression</b></h1>"
   ]
  },
  {
   "cell_type": "code",
   "execution_count": 54,
   "metadata": {},
   "outputs": [],
   "source": [
    "X_train_log, X_test_log = train_test_split(expand_df_downsampled, test_size=0.09, random_state=0, shuffle= True)"
   ]
  },
  {
   "cell_type": "code",
   "execution_count": 55,
   "metadata": {},
   "outputs": [],
   "source": [
    "independent_variables = list(X_train_log.columns)\n",
    "independent_variables.remove(y_of_model)\n",
    "formular = y_of_model + \" ~ \"\n",
    "for feature in independent_variables:\n",
    "    formular = formular + \" + \" + feature\n",
    "formular = formular.replace('+', '', 1)"
   ]
  },
  {
   "cell_type": "code",
   "execution_count": 56,
   "metadata": {},
   "outputs": [
    {
     "name": "stdout",
     "output_type": "stream",
     "text": [
      "Optimization terminated successfully    (Exit mode 0)\n",
      "            Current function value: 0.4907085150938149\n",
      "            Iterations: 129\n",
      "            Function evaluations: 130\n",
      "            Gradient evaluations: 129\n",
      "                           Logit Regression Results                           \n",
      "==============================================================================\n",
      "Dep. Variable:           HeartDisease   No. Observations:                22427\n",
      "Model:                          Logit   Df Residuals:                    22401\n",
      "Method:                           MLE   Df Model:                           25\n",
      "Date:                Mon, 28 Nov 2022   Pseudo R-squ.:                  0.2921\n",
      "Time:                        11:56:41   Log-Likelihood:                -11005.\n",
      "converged:                       True   LL-Null:                       -15545.\n",
      "Covariance Type:            nonrobust   LLR p-value:                     0.000\n",
      "===================================================================================================\n",
      "                                      coef    std err          z      P>|z|      [0.025      0.975]\n",
      "---------------------------------------------------------------------------------------------------\n",
      "Intercept                          -1.0203   6.41e+05  -1.59e-06      1.000   -1.26e+06    1.26e+06\n",
      "BMI                                 0.0736      0.018      4.056      0.000       0.038       0.109\n",
      "Smoking                             0.4109      0.034     12.064      0.000       0.344       0.478\n",
      "AlcoholDrinking                    -0.1899      0.075     -2.549      0.011      -0.336      -0.044\n",
      "Stroke                              1.3839      0.075     18.373      0.000       1.236       1.532\n",
      "PhysicalHealth                      0.0539      0.022      2.452      0.014       0.011       0.097\n",
      "MentalHealth                        0.0720      0.019      3.782      0.000       0.035       0.109\n",
      "DiffWalking                         0.1803      0.047      3.853      0.000       0.089       0.272\n",
      "Sex                                -0.7297      0.035    -21.001      0.000      -0.798      -0.662\n",
      "AgeCategory                         0.2912      0.007     43.110      0.000       0.278       0.304\n",
      "PhysicalActivity                    0.0501      0.040      1.262      0.207      -0.028       0.128\n",
      "GenHealth                          -0.5041      0.020    -25.285      0.000      -0.543      -0.465\n",
      "SleepTime                          -0.0097      0.017     -0.558      0.577      -0.044       0.024\n",
      "Asthma                              0.3121      0.049      6.433      0.000       0.217       0.407\n",
      "KidneyDisease                       0.5718      0.072      7.921      0.000       0.430       0.713\n",
      "SkinCancer                          0.1331      0.050      2.673      0.008       0.036       0.231\n",
      "Diabetic_No                        -0.3925        nan        nan        nan         nan         nan\n",
      "DiabeticBorderline                 -0.2856        nan        nan        nan         nan         nan\n",
      "Diabetic_Yes                        0.2486        nan        nan        nan         nan         nan\n",
      "DiabeticYesPregnancy               -0.3649        nan        nan        nan         nan         nan\n",
      "RaceAmericanIndianAlaskanNative     0.0533   1.04e+06   5.12e-08      1.000   -2.04e+06    2.04e+06\n",
      "RaceAsian                          -0.3931   1.04e+06  -3.78e-07      1.000   -2.04e+06    2.04e+06\n",
      "RaceBlack                          -0.3204   1.04e+06  -3.08e-07      1.000   -2.04e+06    2.04e+06\n",
      "RaceHispanic                       -0.1275   1.04e+06  -1.23e-07      1.000   -2.04e+06    2.04e+06\n",
      "RaceOther                          -0.0561   1.04e+06  -5.39e-08      1.000   -2.04e+06    2.04e+06\n",
      "RaceWhite                          -0.0398   1.04e+06  -3.83e-08      1.000   -2.04e+06    2.04e+06\n",
      "===================================================================================================\n"
     ]
    }
   ],
   "source": [
    "model = smf.logit(formular, \n",
    "                  data = X_train_log)\n",
    "model = model.fit_regularized(start_params = None, method= \"l1\", alpha = 0)\n",
    "print(model.summary())"
   ]
  },
  {
   "cell_type": "code",
   "execution_count": 57,
   "metadata": {},
   "outputs": [
    {
     "name": "stdout",
     "output_type": "stream",
     "text": [
      "Intercept                         -1.020257\n",
      "BMI                                0.073577\n",
      "Smoking                            0.410877\n",
      "AlcoholDrinking                   -0.189911\n",
      "Stroke                             1.383941\n",
      "PhysicalHealth                     0.053933\n",
      "MentalHealth                       0.072000\n",
      "DiffWalking                        0.180257\n",
      "Sex                               -0.729651\n",
      "AgeCategory                        0.291218\n",
      "PhysicalActivity                   0.050118\n",
      "GenHealth                         -0.504076\n",
      "SleepTime                         -0.009736\n",
      "Asthma                             0.312061\n",
      "KidneyDisease                      0.571848\n",
      "SkinCancer                         0.133111\n",
      "Diabetic_No                       -0.392479\n",
      "DiabeticBorderline                -0.285641\n",
      "Diabetic_Yes                       0.248573\n",
      "DiabeticYesPregnancy              -0.364862\n",
      "RaceAmericanIndianAlaskanNative    0.053257\n",
      "RaceAsian                         -0.393121\n",
      "RaceBlack                         -0.320369\n",
      "RaceHispanic                      -0.127464\n",
      "RaceOther                         -0.056093\n",
      "RaceWhite                         -0.039825\n",
      "dtype: float64\n"
     ]
    }
   ],
   "source": [
    "print(model.params)"
   ]
  },
  {
   "cell_type": "code",
   "execution_count": 58,
   "metadata": {},
   "outputs": [
    {
     "name": "stdout",
     "output_type": "stream",
     "text": [
      "                                       OR        z-value      2.5%     97.5%\n",
      "Intercept                        0.360502   9.999987e-01  0.000000       inf\n",
      "BMI                              1.076352   4.993286e-05  1.038754  1.115310\n",
      "Smoking                          1.508141   1.632882e-33  1.410756  1.612248\n",
      "AlcoholDrinking                  0.827033   1.080802e-02  0.714662  0.957072\n",
      "Stroke                           3.990596   2.170021e-75  3.442869  4.625461\n",
      "PhysicalHealth                   1.055414   1.418862e-02  1.010889  1.101900\n",
      "MentalHealth                     1.074655   1.553840e-04  1.035299  1.115508\n",
      "DiffWalking                      1.197525   1.168594e-04  1.092593  1.312534\n",
      "Sex                              0.482077   6.402967e-98  0.450342  0.516048\n",
      "AgeCategory                      1.338057   0.000000e+00  1.320458  1.355890\n",
      "PhysicalActivity                 1.051395   2.068076e-01  0.972686  1.136474\n",
      "GenHealth                        0.604064  4.661782e-141  0.580916  0.628134\n",
      "SleepTime                        0.990311   5.767749e-01  0.957022  1.024757\n",
      "Asthma                           1.366238   1.252909e-10  1.242320  1.502516\n",
      "KidneyDisease                    1.771538   2.348826e-15  1.537807  2.040794\n",
      "SkinCancer                       1.142377   7.513045e-03  1.036154  1.259490\n",
      "Diabetic_No                      0.675381            NaN       NaN       NaN\n",
      "DiabeticBorderline               0.751532            NaN       NaN       NaN\n",
      "Diabetic_Yes                     1.282194            NaN       NaN       NaN\n",
      "DiabeticYesPregnancy             0.694292            NaN       NaN       NaN\n",
      "RaceAmericanIndianAlaskanNative  1.054701   1.000000e+00  0.000000       inf\n",
      "RaceAsian                        0.674947   9.999997e-01  0.000000       inf\n",
      "RaceBlack                        0.725881   9.999998e-01  0.000000       inf\n",
      "RaceHispanic                     0.880325   9.999999e-01  0.000000       inf\n",
      "RaceOther                        0.945451   1.000000e+00  0.000000       inf\n",
      "RaceWhite                        0.960957   1.000000e+00  0.000000       inf\n"
     ]
    },
    {
     "name": "stderr",
     "output_type": "stream",
     "text": [
      "C:\\Users\\oaona\\Anaconda3\\envs\\tf1130\\lib\\site-packages\\ipykernel_launcher.py:3: RuntimeWarning: overflow encountered in exp\n",
      "  This is separate from the ipykernel package so we can avoid doing imports until\n"
     ]
    }
   ],
   "source": [
    "model_odds = pd.DataFrame(np.exp(model.params), columns= ['OR'])\n",
    "model_odds['z-value']= model.pvalues\n",
    "model_odds[['2.5%', '97.5%']] = np.exp(model.conf_int())\n",
    "\n",
    "print(model_odds)"
   ]
  },
  {
   "cell_type": "code",
   "execution_count": 26,
   "metadata": {},
   "outputs": [
    {
     "data": {
      "text/plain": [
       "0.761604326273096"
      ]
     },
     "execution_count": 26,
     "metadata": {},
     "output_type": "execute_result"
    }
   ],
   "source": [
    "pred = model.predict(exog=X_test_log[independent_variables])\n",
    "accuracy_score(y_true=list(X_test_log[y_of_model]), y_pred=list(round(pred)))"
   ]
  },
  {
   "cell_type": "markdown",
   "metadata": {},
   "source": [
    "<h1 style=\"font-size:60px;\"><b>KNN</b></h1>"
   ]
  },
  {
   "cell_type": "code",
   "execution_count": 60,
   "metadata": {},
   "outputs": [
    {
     "name": "stdout",
     "output_type": "stream",
     "text": [
      "2-0.37522557857930616\n",
      "3-0.43382386743581824\n",
      "4-0.4190911751379819\n",
      "5-0.45745086881131425\n",
      "6-0.4496589852752266\n",
      "7-0.4717134922810021\n",
      "8-0.47143882817336047\n",
      "9-0.4887014063644228\n",
      "10-0.48339904988471616\n",
      "11-0.4941575757210551\n",
      "12-0.47181605077655836\n",
      "13-0.4914041172527169\n",
      "14-0.4823047363953473\n",
      "15-0.4887299076225724\n",
      "16-0.48303755837488543\n",
      "17-0.49234027060920776\n",
      "18-0.49368597950150817\n",
      "19-0.49592349082661863\n",
      "20-0.4882386219482748\n",
      "21-0.4968227075719741\n",
      "22-0.49789228382421324\n",
      "23-0.49688720496924166\n",
      "24-0.49332950966939654\n",
      "25-0.4941713161504035\n",
      "26-0.5040821481528633\n",
      "27-0.5058855267435004\n",
      "28-0.5014155812102259\n",
      "29-0.5049765410624315\n",
      "30-0.5112730015277837\n",
      "31-0.5087411904056934\n",
      "32-0.5076376100129459\n",
      "33-0.5105225322745206\n",
      "34-0.5121496988954841\n",
      "35-0.5141886629563706\n",
      "36-0.5094723147284493\n",
      "37-0.5060715189916508\n",
      "38-0.5040412939942052\n",
      "39-0.5078509898086633\n",
      "40-0.5094420819845016\n",
      "41-0.505103124585958\n",
      "42-0.5112463277361221\n",
      "43-0.503296655356437\n",
      "44-0.5103542911994176\n",
      "45-0.5097460462155712\n",
      "46-0.5166738202331095\n",
      "47-0.5204984716388811\n",
      "48-0.5247989881383834\n",
      "49-0.5177745753904195\n"
     ]
    }
   ],
   "source": [
    "res_list= []\n",
    "for k in range(2, 50):\n",
    "    clf = KNeighborsClassifier(n_neighbors = k, p=1)\n",
    "    clf=clf.fit(X_train,eval(\"y_train.\"+ y_of_model + \".ravel()\"))\n",
    "    y_pred=clf.predict(X_test)\n",
    "    res= str(k)+\"-\" +str(matthews_corrcoef(y_test, y_pred))\n",
    "    print(res)\n",
    "    res_list.append(res)"
   ]
  },
  {
   "cell_type": "code",
   "execution_count": null,
   "metadata": {},
   "outputs": [],
   "source": []
  }
 ],
 "metadata": {
  "kernelspec": {
   "display_name": "Python 3",
   "language": "python",
   "name": "python3"
  },
  "language_info": {
   "codemirror_mode": {
    "name": "ipython",
    "version": 3
   },
   "file_extension": ".py",
   "mimetype": "text/x-python",
   "name": "python",
   "nbconvert_exporter": "python",
   "pygments_lexer": "ipython3",
   "version": "3.6.13"
  }
 },
 "nbformat": 4,
 "nbformat_minor": 2
}
